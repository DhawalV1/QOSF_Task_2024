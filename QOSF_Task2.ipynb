{
  "cells": [
    {
      "cell_type": "code",
      "source": [
        "from qiskit_aer import AerSimulator\n",
        "from qiskit.circuit.library import RealAmplitudes\n",
        "from qiskit.circuit import QuantumCircuit, QuantumRegister, ClassicalRegister\n",
        "from qiskit.quantum_info import SparsePauliOp\n",
        "from qiskit.transpiler.preset_passmanagers import generate_preset_pass_manager\n",
        "from qiskit_ibm_runtime import Session, SamplerV2 as Sampler, QiskitRuntimeService"
      ],
      "metadata": {
        "id": "5hxfRuNuYFAc"
      },
      "execution_count": null,
      "outputs": []
    },
    {
      "cell_type": "code",
      "source": [
        "from qiskit_ibm_runtime import QiskitRuntimeService\n",
        "\n",
        "# If you did not previously save your credentials, use the following line instead:\n",
        "service = QiskitRuntimeService(channel=\"ibm_quantum\", token=\"***\")"
      ],
      "metadata": {
        "id": "l2EPCWfthVUf"
      },
      "execution_count": null,
      "outputs": []
    },
    {
      "cell_type": "markdown",
      "metadata": {
        "id": "eLm7kAeRzjCE"
      },
      "source": []
    },
    {
      "cell_type": "code",
      "execution_count": null,
      "metadata": {
        "colab": {
          "base_uri": "https://localhost:8080/",
          "height": 94
        },
        "id": "3TaNbJH0NTjB",
        "outputId": "d11bf092-491c-42b7-9c79-e5e216cb8f4d"
      },
      "outputs": [
        {
          "data": {
            "text/html": [
              "<pre style=\"word-wrap: normal;white-space: pre;background: #fff0;line-height: 1.1;font-family: &quot;Courier New&quot;,Courier,monospace\">     ┌───┐     \n",
              "q_0: ┤ H ├──■──\n",
              "     └───┘┌─┴─┐\n",
              "q_1: ─────┤ X ├\n",
              "          └───┘</pre>"
            ],
            "text/plain": [
              "     ┌───┐     \n",
              "q_0: ┤ H ├──■──\n",
              "     └───┘┌─┴─┐\n",
              "q_1: ─────┤ X ├\n",
              "          └───┘"
            ]
          },
          "execution_count": 8,
          "metadata": {},
          "output_type": "execute_result"
        }
      ],
      "source": [
        "import numpy as np\n",
        "from qiskit import QuantumCircuit\n",
        "from qiskit.circuit.library import XGate, YGate, ZGate\n",
        "\n",
        "qc = QuantumCircuit(2)\n",
        "qc.h(0)\n",
        "qc.cx(0, 1)\n",
        "qc.draw()"
      ]
    },
    {
      "cell_type": "markdown",
      "source": [
        "# Noise Model\n",
        "\n",
        "Given a quantum circuit, this piece of code add noise gates, which are Pauli Operators depending on the wire-number of gate. The probablity for a random Pauli operator acting on the qubit after a one-qubit gate is $\\alpha$ and probability of having a random Pauli operator acting on the qubit after a two-qubit gate is $\\beta$.\n",
        "\n",
        "error gate = [XGate( ), YGate( ), ZGate( )]"
      ],
      "metadata": {
        "id": "O_MkQOtOWRsR"
      }
    },
    {
      "cell_type": "code",
      "execution_count": 95,
      "metadata": {
        "colab": {
          "base_uri": "https://localhost:8080/",
          "height": 94
        },
        "id": "-G9ex0mYM94-",
        "outputId": "530fad86-78b6-4777-e245-e3182ca4b25a"
      },
      "outputs": [
        {
          "output_type": "execute_result",
          "data": {
            "text/plain": [
              "     ┌───┐┌───┐     ┌───┐\n",
              "q_0: ┤ H ├┤ Z ├──■──┤ Z ├\n",
              "     └───┘└───┘┌─┴─┐├───┤\n",
              "q_1: ──────────┤ X ├┤ Z ├\n",
              "               └───┘└───┘"
            ],
            "text/html": [
              "<pre style=\"word-wrap: normal;white-space: pre;background: #fff0;line-height: 1.1;font-family: &quot;Courier New&quot;,Courier,monospace\">     ┌───┐┌───┐     ┌───┐\n",
              "q_0: ┤ H ├┤ Z ├──■──┤ Z ├\n",
              "     └───┘└───┘┌─┴─┐├───┤\n",
              "q_1: ──────────┤ X ├┤ Z ├\n",
              "               └───┘└───┘</pre>"
            ]
          },
          "metadata": {},
          "execution_count": 95
        }
      ],
      "source": [
        "import numpy as np\n",
        "from qiskit import QuantumCircuit\n",
        "from qiskit.circuit.library import XGate, YGate, ZGate\n",
        "\n",
        "def add_noise(circuit, alpha, beta):\n",
        "\n",
        "    noisy_circuit = QuantumCircuit(circuit.num_qubits)\n",
        "\n",
        "    # Lambda function to pick a random Pauli gate\n",
        "    error_gate = [XGate(), YGate(), ZGate()]\n",
        "\n",
        "    for instruction in circuit.data:\n",
        "        gate = instruction.operation\n",
        "        qubits = [circuit.find_bit(qubit).index for qubit in instruction.qubits]\n",
        "\n",
        "        # Append the original gate to the new circuit\n",
        "        noisy_circuit.append(gate, qubits)\n",
        "\n",
        "        # Determine if noise should be added\n",
        "        if gate.num_qubits == 1:\n",
        "            # Add noise after a one-qubit gate with probability p1\n",
        "            if np.random.rand() < alpha:\n",
        "                pauli_gate = np.random.choice([0,1,2])\n",
        "                noisy_circuit.append(error_gate[pauli_gate],[qubits[0]])\n",
        "\n",
        "        elif gate.num_qubits == 2:\n",
        "            # Add noise after a two-qubit gate with probability p2\n",
        "            if np.random.rand() < beta:\n",
        "                # Apply a random Pauli gate to each qubit in the two-qubit gate\n",
        "                for qubit in qubits:\n",
        "                    pauli_gate = np.random.choice([0,1,2])\n",
        "                    noisy_circuit.append(error_gate[pauli_gate], [qubit])\n",
        "\n",
        "    return noisy_circuit\n",
        "\n",
        "# example of inclusion of noise in a bell circuit\n",
        "noisy = add_noise(qc, 0.5, 0.5)\n",
        "noisy.draw()\n"
      ]
    },
    {
      "cell_type": "markdown",
      "source": [
        "# Transpile\n",
        "\n",
        "Each quantum processor has a set of basis gates defined by the physical constraints of its hardware architecture. More complex quantum gates are then constructed from these basis gates using a process called transpilation or decomposition. The function **custom\\_transpile** will take a circuit and transpile the gates into following basis gates;  {CX,ID,RZ,SX,X}"
      ],
      "metadata": {
        "id": "fjynculWWiTV"
      }
    },
    {
      "cell_type": "code",
      "execution_count": 117,
      "metadata": {
        "colab": {
          "base_uri": "https://localhost:8080/"
        },
        "id": "NixDEiFrKbDz",
        "outputId": "1898125a-0fa3-4f6d-f919-22c8b5d79cae"
      },
      "outputs": [
        {
          "output_type": "stream",
          "name": "stdout",
          "text": [
            "Original Circuit:\n",
            "     ┌───┐     ┌─────────┐\n",
            "q_0: ┤ H ├──■──┤ Ry(π/4) ├\n",
            "     └───┘┌─┴─┐├─────────┤\n",
            "q_1: ─────┤ X ├┤ Rx(π/3) ├\n",
            "          └───┘└─────────┘\n",
            "\n",
            "Transpiled Circuit:\n",
            "     ┌───────┐┌────┐┌───────┐      ┌───────┐ ┌────┐┌─────────┐┌────┐»\n",
            "q_0: ┤ Rz(π) ├┤ √X ├┤ Rz(π) ├──■───┤ Rz(π) ├─┤ √X ├┤ Rz(π/4) ├┤ √X ├»\n",
            "     └───────┘└────┘└───────┘┌─┴─┐┌┴───────┴┐├────┤├─────────┤├────┤»\n",
            "q_1: ────────────────────────┤ X ├┤ Rz(π/2) ├┤ √X ├┤ Rz(π/3) ├┤ √X ├»\n",
            "                             └───┘└─────────┘└────┘└─────────┘└────┘»\n",
            "«                 \n",
            "«q_0: ────────────\n",
            "«     ┌──────────┐\n",
            "«q_1: ┤ Rz(-π/2) ├\n",
            "«     └──────────┘\n"
          ]
        }
      ],
      "source": [
        "from qiskit import QuantumCircuit\n",
        "import numpy as np\n",
        "\n",
        "# Define a function to replace an H gate with basis gates\n",
        "def decompose_h():\n",
        "    # H gate decomposition using RZ, SX\n",
        "    decomposed_circuit = QuantumCircuit(1)\n",
        "    decomposed_circuit.rz(np.pi, 0)  # equivalent to Z gate in this context\n",
        "    decomposed_circuit.sx(0)\n",
        "    decomposed_circuit.rz(np.pi, 0)\n",
        "    return decomposed_circuit\n",
        "\n",
        "# Define a function to replace an RX gate with basis gates\n",
        "def decompose_rx(theta):\n",
        "\n",
        "    # RX(theta) decomposition using RZ and SX\n",
        "\n",
        "    decomposed_circuit = QuantumCircuit(1)\n",
        "    decomposed_circuit.rz(np.pi/2, 0)\n",
        "    decomposed_circuit.sx(0)\n",
        "    decomposed_circuit.rz(theta, 0)\n",
        "    decomposed_circuit.sx(0)\n",
        "    decomposed_circuit.rz(-np.pi/2, 0)\n",
        "    return decomposed_circuit\n",
        "\n",
        "# Define a function to replace an RY gate with basis gates\n",
        "def decompose_ry(theta):\n",
        "\n",
        "    # RY(theta) decomposition using RZ and SX\n",
        "\n",
        "    decomposed_circuit = QuantumCircuit(1)\n",
        "    decomposed_circuit.rz(np.pi, 0)\n",
        "    decomposed_circuit.sx(0)\n",
        "    decomposed_circuit.rz(theta, 0)\n",
        "    decomposed_circuit.sx(0)\n",
        "    return decomposed_circuit\n",
        "\n",
        "def decompose_cp(theta):\n",
        "\n",
        "    # CP(theta) = RZ(theta/2) -> CX -> RZ(-theta/2) -> CX -> RZ(theta/2)\n",
        "\n",
        "    decomposed_circuit = QuantumCircuit(2)\n",
        "    decomposed_circuit.rz(theta / 2, 1)\n",
        "    decomposed_circuit.cx(0, 1)\n",
        "    decomposed_circuit.rz(-theta / 2, 1)\n",
        "    decomposed_circuit.cx(0, 1)\n",
        "    decomposed_circuit.rz(theta / 2, 1)\n",
        "    return decomposed_circuit\n",
        "\n",
        "# Define a function to replace a SWAP gate with basis gates\n",
        "def decompose_swap():\n",
        "\n",
        "    # SWAP(a, b) = CX(a, b) -> CX(b, a) -> CX(a, b)\n",
        "\n",
        "    decomposed_circuit = QuantumCircuit(2)  # 2 qubits for the swap\n",
        "    decomposed_circuit.cx(0, 1)  # Apply CX(a, b)\n",
        "    decomposed_circuit.cx(1, 0)  # Apply CX(b, a)\n",
        "    decomposed_circuit.cx(0, 1)  # Apply CX(a, b)\n",
        "    return decomposed_circuit\n",
        "\n",
        "\n",
        "# Define a function to transpile a full circuit from scratch\n",
        "def custom_transpile(circuit):\n",
        "    transpiled_circuit = QuantumCircuit(circuit.num_qubits)\n",
        "\n",
        "    # Update the loop to use operation, qubits, and clbits explicitly\n",
        "    for instruction in circuit.data:\n",
        "        instr = instruction.operation\n",
        "        qargs = instruction.qubits\n",
        "        gate_name = instr.name\n",
        "\n",
        "        # Use find_bit to get the correct index for each qubit in qargs\n",
        "        qubit_index = [circuit.find_bit(qubit).index for qubit in qargs]\n",
        "\n",
        "        if gate_name == \"h\":\n",
        "            # Decompose H gate\n",
        "            decomposed_h = decompose_h()\n",
        "            transpiled_circuit.compose(decomposed_h, qubit_index, inplace=True)\n",
        "\n",
        "        elif gate_name == \"rx\":\n",
        "            # Decompose RX gate\n",
        "            theta = instr.params[0]\n",
        "            decomposed_rx = decompose_rx(theta)\n",
        "            transpiled_circuit.compose(decomposed_rx, qubit_index, inplace=True)\n",
        "\n",
        "        elif gate_name == \"ry\":\n",
        "            # Decompose RY gate\n",
        "            theta = instr.params[0]\n",
        "            decomposed_ry = decompose_ry(theta)\n",
        "            transpiled_circuit.compose(decomposed_ry, qubit_index, inplace=True)\n",
        "\n",
        "        elif gate_name == \"cp\":\n",
        "            # Decompose CP gate\n",
        "            theta = instr.params[0]\n",
        "            decomposed_cp = decompose_cp(theta)\n",
        "            transpiled_circuit.compose(decomposed_cp, qubit_index, inplace=True)\n",
        "\n",
        "        elif gate_name == \"swap\":\n",
        "            # Decompose SWAP gate\n",
        "            decomposed_swap = decompose_swap()\n",
        "            transpiled_circuit.compose(decomposed_swap, qubit_index, inplace=True)\n",
        "\n",
        "        elif gate_name == \"rz\":\n",
        "            # RZ is already a basis gate\n",
        "            transpiled_circuit.rz(instr.params[0], qubit_index[0])\n",
        "\n",
        "        elif gate_name == \"sx\":\n",
        "            # SX is already a basis gate\n",
        "            transpiled_circuit.sx(qubit_index[0])\n",
        "\n",
        "        elif gate_name == \"x\":\n",
        "            # X is already a basis gate\n",
        "            transpiled_circuit.x(qubit_index[0])\n",
        "\n",
        "        elif gate_name == \"cx\":\n",
        "            # CX is already a basis gate\n",
        "            transpiled_circuit.cx(qubit_index[0], qubit_index[1])\n",
        "\n",
        "        # else:\n",
        "        #     raise ValueError(f\"Gate {gate_name} is not supported in the basis set.\")\n",
        "\n",
        "    return transpiled_circuit\n",
        "\n",
        "# Example circuit with a mix of gates\n",
        "qc = QuantumCircuit(2)\n",
        "qc.h(0)\n",
        "qc.cx(0, 1)\n",
        "qc.rx(np.pi/3, 1)\n",
        "qc.ry(np.pi/4, 0)\n",
        "\n",
        "print(\"Original Circuit:\")\n",
        "print(qc)\n",
        "\n",
        "# Transpile the circuit manually\n",
        "transpiled_qc = custom_transpile(qc)\n",
        "\n",
        "print(\"\\nTranspiled Circuit:\")\n",
        "print(transpiled_qc)\n"
      ]
    },
    {
      "cell_type": "markdown",
      "source": [
        "# Draper Sum Algorithm"
      ],
      "metadata": {
        "id": "ID8vNousXlt1"
      }
    },
    {
      "cell_type": "code",
      "execution_count": 113,
      "metadata": {
        "id": "8UwWLQXtLhZt"
      },
      "outputs": [],
      "source": [
        "from qiskit import QuantumCircuit\n",
        "from qiskit.quantum_info import SparsePauliOp\n",
        "from qiskit.transpiler.preset_passmanagers import generate_preset_pass_manager\n",
        "from qiskit_ibm_runtime import EstimatorV2 as Estimator\n",
        "\n",
        "def qft(circuit, n):\n",
        "    \"\"\"Apply the Quantum Fourier Transform to the first n qubits in the circuit.\"\"\"\n",
        "    for j in range(n):\n",
        "        circuit.h(j)\n",
        "        for k in range(j + 1, n):\n",
        "            circuit.cp(np.pi / 2 ** (k - j), k, j)  # Controlled phase rotation\n",
        "\n",
        "    # Reverse qubit order to complete QFT\n",
        "    for i in range(n // 2):\n",
        "        circuit.swap(i, n - i - 1)\n",
        "\n",
        "def inverse_qft(circuit, n):\n",
        "    \"\"\"Apply the inverse Quantum Fourier Transform to the first n qubits in the circuit.\"\"\"\n",
        "    # Reverse the qubit order\n",
        "    for i in range(n // 2):\n",
        "        circuit.swap(i, n - i - 1)\n",
        "\n",
        "    # Apply inverse QFT operations\n",
        "    for j in range(n - 1, -1, -1):\n",
        "        for k in range(j - 1, -1, -1):\n",
        "            circuit.cp(-np.pi / 2 ** (j - k), j, k)  # Controlled phase rotation\n",
        "        circuit.h(j)\n",
        "\n",
        "def quantum_sum(a, b):\n",
        "    \"\"\"\n",
        "    Quantum addition of two integers using the Draper adder algorithm.\n",
        "\n",
        "    Parameters:\n",
        "    - a (int): First integer to add.\n",
        "    - b (int): Second integer to add.\n",
        "\n",
        "    Returns:\n",
        "    - QuantumCircuit: The circuit that adds a and b.\n",
        "    \"\"\"\n",
        "    # Determine the number of qubits required\n",
        "    n = max(a.bit_length(), b.bit_length()) + 1  # +1 to handle overflow\n",
        "\n",
        "    # Create a quantum circuit with 2n qubits (n for each number)\n",
        "    circuit = QuantumCircuit(2 * n)\n",
        "\n",
        "    # Initialize the qubits to represent the binary forms of a and b\n",
        "    # For number `a` in the first n qubits\n",
        "    for i in range(n):\n",
        "        if (a >> i) & 1:\n",
        "            circuit.x(i)\n",
        "\n",
        "    # For number `b` in the second n qubits\n",
        "    for i in range(n):\n",
        "        if (b >> i) & 1:\n",
        "            circuit.x(i + n)\n",
        "\n",
        "    # Apply QFT to the first register (where `a` is stored)\n",
        "    qft(circuit, n)\n",
        "\n",
        "    # Add the values of the second register (`b`) to the first register using controlled-phase gates\n",
        "    for i in range(n):\n",
        "        for j in range(i + 1):\n",
        "            if (b >> j) & 1:\n",
        "                circuit.cp(np.pi / 2 ** (i - j), j + n, i)\n",
        "\n",
        "    # Apply inverse QFT to the first register to get the sum\n",
        "    inverse_qft(circuit, n)\n",
        "\n",
        "    # Measure the result from the first n qubits\n",
        "    # circuit.measure_all()\n",
        "\n",
        "    return circuit"
      ]
    },
    {
      "cell_type": "code",
      "source": [
        "# Example: Adding 1 + 2\n",
        "a = 1\n",
        "b = 2\n",
        "adder_circuit = quantum_sum(a, b)\n",
        "\n",
        "adder_circuit.measure_all()\n",
        "\n",
        "\n",
        "aer_sim = AerSimulator()\n",
        "pm = generate_preset_pass_manager(backend=aer_sim, optimization_level=3)\n",
        "isa_qcl = pm.run(adder_circuit)\n",
        "\n",
        "with Session(backend=aer_sim) as session:\n",
        "    sampler = Sampler()\n",
        "    result = sampler.run([isa_qcl]).result()"
      ],
      "metadata": {
        "id": "UhP4v0qdX-mc"
      },
      "execution_count": 100,
      "outputs": []
    },
    {
      "cell_type": "code",
      "source": [
        "adder_circuit.draw()"
      ],
      "metadata": {
        "colab": {
          "base_uri": "https://localhost:8080/",
          "height": 479
        },
        "id": "DOD8ExF4Ys5N",
        "outputId": "ac541c66-eac4-4dd9-e339-6bcaddc63c84"
      },
      "execution_count": 112,
      "outputs": [
        {
          "output_type": "execute_result",
          "data": {
            "text/plain": [
              "         ┌───┐┌───┐                                              ┌───┐ ░ ┌─┐   »\n",
              "    q_0: ┤ X ├┤ H ├─■─────────────X──■───────────────X──■────────┤ H ├─░─┤M├───»\n",
              "         └───┘└───┘ │P(π/2) ┌───┐ │  │               │  │P(-π/2) ├───┤ ░ └╥┘┌─┐»\n",
              "    q_1: ───────────■───────┤ H ├─X──┼──────■────────X──■────────┤ H ├─░──╫─┤M├»\n",
              "                            └───┘    │      │                    └───┘ ░  ║ └╥┘»\n",
              "    q_2: ────────────────────────────┼──────┼──────────────────────────░──╫──╫─»\n",
              "         ┌───┐                       │P(π)  │P(π/2)                    ░  ║  ║ »\n",
              "    q_3: ┤ X ├───────────────────────■──────■──────────────────────────░──╫──╫─»\n",
              "         └───┘                                                         ░  ║  ║ »\n",
              "    q_4: ──────────────────────────────────────────────────────────────░──╫──╫─»\n",
              "                                                                       ░  ║  ║ »\n",
              " meas: 5/═════════════════════════════════════════════════════════════════╩══╩═»\n",
              "                                                                          0  1 »\n",
              "meas8: 5/══════════════════════════════════════════════════════════════════════»\n",
              "                                                                               »\n",
              "«                   ░ ┌─┐            \n",
              "«    q_0: ──────────░─┤M├────────────\n",
              "«                   ░ └╥┘┌─┐         \n",
              "«    q_1: ──────────░──╫─┤M├─────────\n",
              "«         ┌─┐       ░  ║ └╥┘┌─┐      \n",
              "«    q_2: ┤M├───────░──╫──╫─┤M├──────\n",
              "«         └╥┘┌─┐    ░  ║  ║ └╥┘┌─┐   \n",
              "«    q_3: ─╫─┤M├────░──╫──╫──╫─┤M├───\n",
              "«          ║ └╥┘┌─┐ ░  ║  ║  ║ └╥┘┌─┐\n",
              "«    q_4: ─╫──╫─┤M├─░──╫──╫──╫──╫─┤M├\n",
              "«          ║  ║ └╥┘ ░  ║  ║  ║  ║ └╥┘\n",
              "« meas: 5/═╩══╩══╩═════╬══╬══╬══╬══╬═\n",
              "«          2  3  4     ║  ║  ║  ║  ║ \n",
              "«meas8: 5/═════════════╩══╩══╩══╩══╩═\n",
              "«                      0  1  2  3  4 "
            ],
            "text/html": [
              "<pre style=\"word-wrap: normal;white-space: pre;background: #fff0;line-height: 1.1;font-family: &quot;Courier New&quot;,Courier,monospace\">         ┌───┐┌───┐                                              ┌───┐ ░ ┌─┐   »\n",
              "    q_0: ┤ X ├┤ H ├─■─────────────X──■───────────────X──■────────┤ H ├─░─┤M├───»\n",
              "         └───┘└───┘ │P(π/2) ┌───┐ │  │               │  │P(-π/2) ├───┤ ░ └╥┘┌─┐»\n",
              "    q_1: ───────────■───────┤ H ├─X──┼──────■────────X──■────────┤ H ├─░──╫─┤M├»\n",
              "                            └───┘    │      │                    └───┘ ░  ║ └╥┘»\n",
              "    q_2: ────────────────────────────┼──────┼──────────────────────────░──╫──╫─»\n",
              "         ┌───┐                       │P(π)  │P(π/2)                    ░  ║  ║ »\n",
              "    q_3: ┤ X ├───────────────────────■──────■──────────────────────────░──╫──╫─»\n",
              "         └───┘                                                         ░  ║  ║ »\n",
              "    q_4: ──────────────────────────────────────────────────────────────░──╫──╫─»\n",
              "                                                                       ░  ║  ║ »\n",
              " meas: 5/═════════════════════════════════════════════════════════════════╩══╩═»\n",
              "                                                                          0  1 »\n",
              "meas8: 5/══════════════════════════════════════════════════════════════════════»\n",
              "                                                                               »\n",
              "«                   ░ ┌─┐            \n",
              "«    q_0: ──────────░─┤M├────────────\n",
              "«                   ░ └╥┘┌─┐         \n",
              "«    q_1: ──────────░──╫─┤M├─────────\n",
              "«         ┌─┐       ░  ║ └╥┘┌─┐      \n",
              "«    q_2: ┤M├───────░──╫──╫─┤M├──────\n",
              "«         └╥┘┌─┐    ░  ║  ║ └╥┘┌─┐   \n",
              "«    q_3: ─╫─┤M├────░──╫──╫──╫─┤M├───\n",
              "«          ║ └╥┘┌─┐ ░  ║  ║  ║ └╥┘┌─┐\n",
              "«    q_4: ─╫──╫─┤M├─░──╫──╫──╫──╫─┤M├\n",
              "«          ║  ║ └╥┘ ░  ║  ║  ║  ║ └╥┘\n",
              "« meas: 5/═╩══╩══╩═════╬══╬══╬══╬══╬═\n",
              "«          2  3  4     ║  ║  ║  ║  ║ \n",
              "«meas8: 5/═════════════╩══╩══╩══╩══╩═\n",
              "«                      0  1  2  3  4 </pre>"
            ]
          },
          "metadata": {},
          "execution_count": 112
        }
      ]
    },
    {
      "cell_type": "markdown",
      "source": [
        "Following the left hand convention, the count for 01011 is highest, showing the result of the operation to be 3(the last two digit of final state)"
      ],
      "metadata": {
        "id": "VX2G-LXVZJND"
      }
    },
    {
      "cell_type": "code",
      "source": [
        "pub_result1 = result[0]\n",
        "print(f\"Counts for the meas output register: {pub_result1.data.meas.get_counts()}\")"
      ],
      "metadata": {
        "colab": {
          "base_uri": "https://localhost:8080/"
        },
        "id": "HcZaWWgUYm1L",
        "outputId": "5c2e6228-39f8-4ca1-f6f9-1c20a5c961a7"
      },
      "execution_count": 102,
      "outputs": [
        {
          "output_type": "stream",
          "name": "stdout",
          "text": [
            "Counts for the meas output register: {'01011': 632, '01001': 113, '01000': 133, '01010': 146}\n"
          ]
        }
      ]
    },
    {
      "cell_type": "markdown",
      "source": [
        "# Merging\n",
        "\n",
        "Now we merge the **noise model** with **quantum_sum** circuit after the **transpilation** into the basis gate set."
      ],
      "metadata": {
        "id": "pbV4byZgZMNl"
      }
    },
    {
      "cell_type": "code",
      "source": [
        "# Transpile, Add Noise, and Simulate with Different Noise Levels\n",
        "def simulate_quantum_sum_with_noise(a, b, p1, p2):\n",
        "    qc = quantum_sum(a, b)\n",
        "    transpiled_circuit = custom_transpile(qc)\n",
        "    final_noisy_qc = add_noise(transpiled_circuit, p1, p2)\n",
        "\n",
        "    return final_noisy_qc\n"
      ],
      "metadata": {
        "id": "CMVvOWFKZlRI"
      },
      "execution_count": 114,
      "outputs": []
    },
    {
      "cell_type": "code",
      "source": [
        "my_circ1 = simulate_quantum_sum_with_noise(1, 2, 0.1, 0.1)\n",
        "my_circ1.measure_all()\n",
        "\n",
        "aer_sim = AerSimulator()\n",
        "pm = generate_preset_pass_manager(backend=aer_sim, optimization_level=3)\n",
        "isa_qcl = pm.run(my_circ1)\n",
        "\n",
        "with Session(backend=aer_sim) as session:\n",
        "    sampler = Sampler()\n",
        "    result = sampler.run([isa_qcl]).result()\n",
        "\n",
        "pub_result1 = result[0]\n",
        "print(f\"Counts for the meas output register: {pub_result1.data.meas.get_counts()}\")"
      ],
      "metadata": {
        "colab": {
          "base_uri": "https://localhost:8080/"
        },
        "id": "_qTOfKEybSId",
        "outputId": "d61f007f-bfeb-44fd-ef09-ee4e4f077fb0"
      },
      "execution_count": 125,
      "outputs": [
        {
          "output_type": "stream",
          "name": "stdout",
          "text": [
            "Counts for the meas output register: {'010001': 47, '010100': 556, '010110': 136, '010111': 111, '010000': 7, '010010': 122, '010101': 45}\n"
          ]
        }
      ]
    },
    {
      "cell_type": "code",
      "source": [
        "my_circ2 = simulate_quantum_sum_with_noise(1, 2, 0.2, 0.2)\n",
        "my_circ2.measure_all()\n",
        "\n",
        "aer_sim = AerSimulator()\n",
        "pm = generate_preset_pass_manager(backend=aer_sim, optimization_level=3)\n",
        "isa_qcl = pm.run(my_circ2)\n",
        "\n",
        "with Session(backend=aer_sim) as session:\n",
        "    sampler = Sampler()\n",
        "    result = sampler.run([isa_qcl]).result()\n",
        "\n",
        "pub_result1 = result[0]\n",
        "print(f\"Counts for the meas output register: {pub_result1.data.meas.get_counts()}\")"
      ],
      "metadata": {
        "colab": {
          "base_uri": "https://localhost:8080/"
        },
        "id": "C_BghX4HgtnY",
        "outputId": "6b43b5f3-4aa7-479e-c06f-30748615907a"
      },
      "execution_count": 129,
      "outputs": [
        {
          "output_type": "stream",
          "name": "stdout",
          "text": [
            "Counts for the meas output register: {'000111': 586, '000010': 56, '000101': 115, '000110': 56, '000100': 103, '000001': 92, '000011': 15, '000000': 1}\n"
          ]
        }
      ]
    },
    {
      "cell_type": "code",
      "source": [
        "my_circ3 = simulate_quantum_sum_with_noise(1, 2, 0.3, 0.3)\n",
        "my_circ3.measure_all()\n",
        "\n",
        "aer_sim = AerSimulator()\n",
        "pm = generate_preset_pass_manager(backend=aer_sim, optimization_level=3)\n",
        "isa_qcl = pm.run(my_circ3)\n",
        "\n",
        "with Session(backend=aer_sim) as session:\n",
        "    sampler = Sampler()\n",
        "    result = sampler.run([isa_qcl]).result()\n",
        "\n",
        "pub_result1 = result[0]\n",
        "print(f\"Counts for the meas output register: {pub_result1.data.meas.get_counts()}\")"
      ],
      "metadata": {
        "colab": {
          "base_uri": "https://localhost:8080/"
        },
        "id": "MGXwUSWbg1cD",
        "outputId": "98d8b5b9-91d9-4e9f-e6e6-b755b4e2bbed"
      },
      "execution_count": 133,
      "outputs": [
        {
          "output_type": "stream",
          "name": "stdout",
          "text": [
            "Counts for the meas output register: {'010110': 47, '010000': 455, '010100': 39, '010011': 143, '010001': 182, '010101': 12, '010111': 63, '010010': 83}\n"
          ]
        }
      ]
    },
    {
      "cell_type": "code",
      "source": [
        "# A general noisy quantum circuit\n",
        "\n",
        "simulate_quantum_sum_with_noise(1, 2, 0.3, 0.3).draw()"
      ],
      "metadata": {
        "colab": {
          "base_uri": "https://localhost:8080/",
          "height": 1000
        },
        "id": "WqnwiYvIdIPR",
        "outputId": "f2ec7fc8-e3c5-4cf0-f028-68a6871e73fe"
      },
      "execution_count": 116,
      "outputs": [
        {
          "output_type": "execute_result",
          "data": {
            "text/plain": [
              "     ┌───┐┌───────┐┌────┐┌───┐┌───────┐┌─────────┐┌───┐┌──────────┐┌───┐»\n",
              "q_0: ┤ X ├┤ Rz(π) ├┤ √X ├┤ Z ├┤ Rz(π) ├┤ Rz(π/4) ├┤ X ├┤ Rz(-π/4) ├┤ X ├»\n",
              "     └───┘└───────┘└────┘└───┘└───────┘└─────────┘└─┬─┘└──────────┘└─┬─┘»\n",
              "q_1: ───────────────────────────────────────────────■────────────────■──»\n",
              "                                                                        »\n",
              "q_2: ───────────────────────────────────────────────────────────────────»\n",
              "                                                                        »\n",
              "q_3: ───────────────────────────────────────────────────────────────────»\n",
              "     ┌───┐                                                              »\n",
              "q_4: ┤ X ├──────────────────────────────────────────────────────────────»\n",
              "     └───┘                                                              »\n",
              "q_5: ───────────────────────────────────────────────────────────────────»\n",
              "                                                                        »\n",
              "«     ┌─────────┐┌─────────┐  ┌───┐  ┌───┐┌──────────┐           ┌───┐»\n",
              "«q_0: ┤ Rz(π/4) ├┤ Rz(π/8) ├──┤ X ├──┤ X ├┤ Rz(-π/8) ├───────────┤ X ├»\n",
              "«     └┬───────┬┘└──┬────┬─┘┌─┴───┴─┐└─┬─┘└──┬───┬───┘┌─────────┐└─┬─┘»\n",
              "«q_1: ─┤ Rz(π) ├────┤ √X ├──┤ Rz(π) ├──┼─────┤ X ├────┤ Rz(π/4) ├──┼──»\n",
              "«      └───────┘    └────┘  └───────┘  │     └───┘    └─────────┘  │  »\n",
              "«q_2: ─────────────────────────────────■───────────────────────────■──»\n",
              "«                                                                     »\n",
              "«q_3: ────────────────────────────────────────────────────────────────»\n",
              "«                                                                     »\n",
              "«q_4: ────────────────────────────────────────────────────────────────»\n",
              "«                                                                     »\n",
              "«q_5: ────────────────────────────────────────────────────────────────»\n",
              "«                                                                     »\n",
              "«     ┌─────────┐                                                          »\n",
              "«q_0: ┤ Rz(π/8) ├──────────────────────────────────────────────────────────»\n",
              "«     └──┬───┬──┘┌───┐┌──────────┐┌───┐┌─────────┐┌─────────┐  ┌───┐       »\n",
              "«q_1: ───┤ X ├───┤ Z ├┤ Rz(-π/4) ├┤ X ├┤ Rz(π/4) ├┤ Rz(π/2) ├──┤ X ├───────»\n",
              "«        └─┬─┘   ├───┤└──────────┘└─┬─┘└┬───────┬┘└──┬────┬─┘┌─┴───┴─┐┌───┐»\n",
              "«q_2: ─────■─────┤ X ├──────────────■───┤ Rz(π) ├────┤ √X ├──┤ Rz(π) ├┤ Z ├»\n",
              "«                └───┘                  └───────┘    └────┘  └───────┘└───┘»\n",
              "«q_3: ─────────────────────────────────────────────────────────────────────»\n",
              "«                                                                          »\n",
              "«q_4: ─────────────────────────────────────────────────────────────────────»\n",
              "«                                                                          »\n",
              "«q_5: ─────────────────────────────────────────────────────────────────────»\n",
              "«                                                                          »\n",
              "«                  ┌───┐         ┌───┐                                      »\n",
              "«q_0: ───────■─────┤ Y ├─────────┤ X ├─────────────■────────────────────────»\n",
              "«     ┌───┐  │  ┌──┴───┴───┐┌───┐└─┬─┘┌─────────┐  │  ┌──────────┐          »\n",
              "«q_1: ┤ X ├──┼──┤ Rz(-π/2) ├┤ X ├──┼──┤ Rz(π/2) ├──┼──┤ Rz(-π/4) ├──────────»\n",
              "«     └─┬─┘┌─┴─┐└──┬───┬───┘└─┬─┘  │  └─────────┘┌─┴─┐├─────────┬┘┌───┐┌───┐»\n",
              "«q_2: ──┼──┤ X ├───┤ Y ├──────┼────■─────────────┤ X ├┤ Rz(π/4) ├─┤ X ├┤ X ├»\n",
              "«       │  └───┘   └───┘      │                  └───┘└─────────┘ └─┬─┘└───┘»\n",
              "«q_3: ──┼─────────────────────┼─────────────────────────────────────┼───────»\n",
              "«       │                     │                                     │  ┌───┐»\n",
              "«q_4: ──■─────────────────────■─────────────────────────────────────■──┤ X ├»\n",
              "«                                                                      └───┘»\n",
              "«q_5: ──────────────────────────────────────────────────────────────────────»\n",
              "«                                                                           »\n",
              "«                                           ┌───┐     ┌──────────┐     »\n",
              "«q_0: ───────────────────────────────────■──┤ X ├──■──┤ Rz(-π/8) ├─────»\n",
              "«                                        │  └─┬─┘  │  └──┬───┬───┘┌───┐»\n",
              "«q_1: ───────────────────────────────────┼────┼────┼─────┤ X ├────┤ X ├»\n",
              "«     ┌──────────┐┌───┐┌─────────┐┌───┐┌─┴─┐  │  ┌─┴─┐   └─┬─┘    ├───┤»\n",
              "«q_2: ┤ Rz(-π/4) ├┤ X ├┤ Rz(π/4) ├┤ Y ├┤ X ├──■──┤ X ├─────■──────┤ Y ├»\n",
              "«     └──────────┘└─┬─┘└─────────┘└───┘└───┘     └───┘            └───┘»\n",
              "«q_3: ──────────────┼──────────────────────────────────────────────────»\n",
              "«                   │                                                  »\n",
              "«q_4: ──────────────■──────────────────────────────────────────────────»\n",
              "«                                                                      »\n",
              "«q_5: ─────────────────────────────────────────────────────────────────»\n",
              "«                                                                      »\n",
              "«                                      ┌───┐┌─────────┐┌───┐┌──────────┐┌───┐ »\n",
              "«q_0: ─────────────────────────────────┤ X ├┤ Rz(π/8) ├┤ X ├┤ Rz(-π/8) ├┤ Y ├─»\n",
              "«     ┌─────────┐┌───┐┌───┐┌──────────┐└─┬─┘└─────────┘└─┬─┘└──────────┘└───┘ »\n",
              "«q_1: ┤ Rz(π/4) ├┤ X ├┤ Y ├┤ Rz(-π/4) ├──┼───────────────┼────────────────────»\n",
              "«     └─────────┘└─┬─┘├───┤└──────────┘  │               │   ┌───────┐  ┌────┐»\n",
              "«q_2: ─────────────■──┤ X ├──────────────■───────────────■───┤ Rz(π) ├──┤ √X ├»\n",
              "«                     └───┘                                  └───────┘  └────┘»\n",
              "«q_3: ────────────────────────────────────────────────────────────────────────»\n",
              "«                                                                             »\n",
              "«q_4: ────────────────────────────────────────────────────────────────────────»\n",
              "«                                                                             »\n",
              "«q_5: ────────────────────────────────────────────────────────────────────────»\n",
              "«                                                                             »\n",
              "«     ┌──────────┐  ┌───┐  ┌─────────┐┌───┐┌───┐┌───┐┌──────────┐┌───────┐»\n",
              "«q_0: ┤ Rz(-π/4) ├──┤ X ├──┤ Rz(π/4) ├┤ Y ├┤ X ├┤ X ├┤ Rz(-π/4) ├┤ Rz(π) ├»\n",
              "«     └──────────┘  └─┬─┘  └─────────┘└───┘└─┬─┘├───┤└┬───────┬─┘└─┬───┬─┘»\n",
              "«q_1: ────────────────■──────────────────────■──┤ Y ├─┤ Rz(π) ├────┤ X ├──»\n",
              "«        ┌───┐    ┌───────┐                     └───┘ └───────┘    └───┘  »\n",
              "«q_2: ───┤ Y ├────┤ Rz(π) ├───────────────────────────────────────────────»\n",
              "«        └───┘    └───────┘                                               »\n",
              "«q_3: ────────────────────────────────────────────────────────────────────»\n",
              "«                                                                         »\n",
              "«q_4: ────────────────────────────────────────────────────────────────────»\n",
              "«                                                                         »\n",
              "«q_5: ────────────────────────────────────────────────────────────────────»\n",
              "«                                                                         »\n",
              "«     ┌───┐   ┌────┐ ┌───────┐\n",
              "«q_0: ┤ Y ├───┤ √X ├─┤ Rz(π) ├\n",
              "«     ├───┴┐┌─┴────┴┐└───────┘\n",
              "«q_1: ┤ √X ├┤ Rz(π) ├─────────\n",
              "«     └────┘└───────┘         \n",
              "«q_2: ────────────────────────\n",
              "«                             \n",
              "«q_3: ────────────────────────\n",
              "«                             \n",
              "«q_4: ────────────────────────\n",
              "«                             \n",
              "«q_5: ────────────────────────\n",
              "«                             "
            ],
            "text/html": [
              "<pre style=\"word-wrap: normal;white-space: pre;background: #fff0;line-height: 1.1;font-family: &quot;Courier New&quot;,Courier,monospace\">     ┌───┐┌───────┐┌────┐┌───┐┌───────┐┌─────────┐┌───┐┌──────────┐┌───┐»\n",
              "q_0: ┤ X ├┤ Rz(π) ├┤ √X ├┤ Z ├┤ Rz(π) ├┤ Rz(π/4) ├┤ X ├┤ Rz(-π/4) ├┤ X ├»\n",
              "     └───┘└───────┘└────┘└───┘└───────┘└─────────┘└─┬─┘└──────────┘└─┬─┘»\n",
              "q_1: ───────────────────────────────────────────────■────────────────■──»\n",
              "                                                                        »\n",
              "q_2: ───────────────────────────────────────────────────────────────────»\n",
              "                                                                        »\n",
              "q_3: ───────────────────────────────────────────────────────────────────»\n",
              "     ┌───┐                                                              »\n",
              "q_4: ┤ X ├──────────────────────────────────────────────────────────────»\n",
              "     └───┘                                                              »\n",
              "q_5: ───────────────────────────────────────────────────────────────────»\n",
              "                                                                        »\n",
              "«     ┌─────────┐┌─────────┐  ┌───┐  ┌───┐┌──────────┐           ┌───┐»\n",
              "«q_0: ┤ Rz(π/4) ├┤ Rz(π/8) ├──┤ X ├──┤ X ├┤ Rz(-π/8) ├───────────┤ X ├»\n",
              "«     └┬───────┬┘└──┬────┬─┘┌─┴───┴─┐└─┬─┘└──┬───┬───┘┌─────────┐└─┬─┘»\n",
              "«q_1: ─┤ Rz(π) ├────┤ √X ├──┤ Rz(π) ├──┼─────┤ X ├────┤ Rz(π/4) ├──┼──»\n",
              "«      └───────┘    └────┘  └───────┘  │     └───┘    └─────────┘  │  »\n",
              "«q_2: ─────────────────────────────────■───────────────────────────■──»\n",
              "«                                                                     »\n",
              "«q_3: ────────────────────────────────────────────────────────────────»\n",
              "«                                                                     »\n",
              "«q_4: ────────────────────────────────────────────────────────────────»\n",
              "«                                                                     »\n",
              "«q_5: ────────────────────────────────────────────────────────────────»\n",
              "«                                                                     »\n",
              "«     ┌─────────┐                                                          »\n",
              "«q_0: ┤ Rz(π/8) ├──────────────────────────────────────────────────────────»\n",
              "«     └──┬───┬──┘┌───┐┌──────────┐┌───┐┌─────────┐┌─────────┐  ┌───┐       »\n",
              "«q_1: ───┤ X ├───┤ Z ├┤ Rz(-π/4) ├┤ X ├┤ Rz(π/4) ├┤ Rz(π/2) ├──┤ X ├───────»\n",
              "«        └─┬─┘   ├───┤└──────────┘└─┬─┘└┬───────┬┘└──┬────┬─┘┌─┴───┴─┐┌───┐»\n",
              "«q_2: ─────■─────┤ X ├──────────────■───┤ Rz(π) ├────┤ √X ├──┤ Rz(π) ├┤ Z ├»\n",
              "«                └───┘                  └───────┘    └────┘  └───────┘└───┘»\n",
              "«q_3: ─────────────────────────────────────────────────────────────────────»\n",
              "«                                                                          »\n",
              "«q_4: ─────────────────────────────────────────────────────────────────────»\n",
              "«                                                                          »\n",
              "«q_5: ─────────────────────────────────────────────────────────────────────»\n",
              "«                                                                          »\n",
              "«                  ┌───┐         ┌───┐                                      »\n",
              "«q_0: ───────■─────┤ Y ├─────────┤ X ├─────────────■────────────────────────»\n",
              "«     ┌───┐  │  ┌──┴───┴───┐┌───┐└─┬─┘┌─────────┐  │  ┌──────────┐          »\n",
              "«q_1: ┤ X ├──┼──┤ Rz(-π/2) ├┤ X ├──┼──┤ Rz(π/2) ├──┼──┤ Rz(-π/4) ├──────────»\n",
              "«     └─┬─┘┌─┴─┐└──┬───┬───┘└─┬─┘  │  └─────────┘┌─┴─┐├─────────┬┘┌───┐┌───┐»\n",
              "«q_2: ──┼──┤ X ├───┤ Y ├──────┼────■─────────────┤ X ├┤ Rz(π/4) ├─┤ X ├┤ X ├»\n",
              "«       │  └───┘   └───┘      │                  └───┘└─────────┘ └─┬─┘└───┘»\n",
              "«q_3: ──┼─────────────────────┼─────────────────────────────────────┼───────»\n",
              "«       │                     │                                     │  ┌───┐»\n",
              "«q_4: ──■─────────────────────■─────────────────────────────────────■──┤ X ├»\n",
              "«                                                                      └───┘»\n",
              "«q_5: ──────────────────────────────────────────────────────────────────────»\n",
              "«                                                                           »\n",
              "«                                           ┌───┐     ┌──────────┐     »\n",
              "«q_0: ───────────────────────────────────■──┤ X ├──■──┤ Rz(-π/8) ├─────»\n",
              "«                                        │  └─┬─┘  │  └──┬───┬───┘┌───┐»\n",
              "«q_1: ───────────────────────────────────┼────┼────┼─────┤ X ├────┤ X ├»\n",
              "«     ┌──────────┐┌───┐┌─────────┐┌───┐┌─┴─┐  │  ┌─┴─┐   └─┬─┘    ├───┤»\n",
              "«q_2: ┤ Rz(-π/4) ├┤ X ├┤ Rz(π/4) ├┤ Y ├┤ X ├──■──┤ X ├─────■──────┤ Y ├»\n",
              "«     └──────────┘└─┬─┘└─────────┘└───┘└───┘     └───┘            └───┘»\n",
              "«q_3: ──────────────┼──────────────────────────────────────────────────»\n",
              "«                   │                                                  »\n",
              "«q_4: ──────────────■──────────────────────────────────────────────────»\n",
              "«                                                                      »\n",
              "«q_5: ─────────────────────────────────────────────────────────────────»\n",
              "«                                                                      »\n",
              "«                                      ┌───┐┌─────────┐┌───┐┌──────────┐┌───┐ »\n",
              "«q_0: ─────────────────────────────────┤ X ├┤ Rz(π/8) ├┤ X ├┤ Rz(-π/8) ├┤ Y ├─»\n",
              "«     ┌─────────┐┌───┐┌───┐┌──────────┐└─┬─┘└─────────┘└─┬─┘└──────────┘└───┘ »\n",
              "«q_1: ┤ Rz(π/4) ├┤ X ├┤ Y ├┤ Rz(-π/4) ├──┼───────────────┼────────────────────»\n",
              "«     └─────────┘└─┬─┘├───┤└──────────┘  │               │   ┌───────┐  ┌────┐»\n",
              "«q_2: ─────────────■──┤ X ├──────────────■───────────────■───┤ Rz(π) ├──┤ √X ├»\n",
              "«                     └───┘                                  └───────┘  └────┘»\n",
              "«q_3: ────────────────────────────────────────────────────────────────────────»\n",
              "«                                                                             »\n",
              "«q_4: ────────────────────────────────────────────────────────────────────────»\n",
              "«                                                                             »\n",
              "«q_5: ────────────────────────────────────────────────────────────────────────»\n",
              "«                                                                             »\n",
              "«     ┌──────────┐  ┌───┐  ┌─────────┐┌───┐┌───┐┌───┐┌──────────┐┌───────┐»\n",
              "«q_0: ┤ Rz(-π/4) ├──┤ X ├──┤ Rz(π/4) ├┤ Y ├┤ X ├┤ X ├┤ Rz(-π/4) ├┤ Rz(π) ├»\n",
              "«     └──────────┘  └─┬─┘  └─────────┘└───┘└─┬─┘├───┤└┬───────┬─┘└─┬───┬─┘»\n",
              "«q_1: ────────────────■──────────────────────■──┤ Y ├─┤ Rz(π) ├────┤ X ├──»\n",
              "«        ┌───┐    ┌───────┐                     └───┘ └───────┘    └───┘  »\n",
              "«q_2: ───┤ Y ├────┤ Rz(π) ├───────────────────────────────────────────────»\n",
              "«        └───┘    └───────┘                                               »\n",
              "«q_3: ────────────────────────────────────────────────────────────────────»\n",
              "«                                                                         »\n",
              "«q_4: ────────────────────────────────────────────────────────────────────»\n",
              "«                                                                         »\n",
              "«q_5: ────────────────────────────────────────────────────────────────────»\n",
              "«                                                                         »\n",
              "«     ┌───┐   ┌────┐ ┌───────┐\n",
              "«q_0: ┤ Y ├───┤ √X ├─┤ Rz(π) ├\n",
              "«     ├───┴┐┌─┴────┴┐└───────┘\n",
              "«q_1: ┤ √X ├┤ Rz(π) ├─────────\n",
              "«     └────┘└───────┘         \n",
              "«q_2: ────────────────────────\n",
              "«                             \n",
              "«q_3: ────────────────────────\n",
              "«                             \n",
              "«q_4: ────────────────────────\n",
              "«                             \n",
              "«q_5: ────────────────────────\n",
              "«                             </pre>"
            ]
          },
          "metadata": {},
          "execution_count": 116
        }
      ]
    },
    {
      "cell_type": "markdown",
      "source": [
        "Below is the transpilation of a bell circuit showing the breakdown of Hadamard and CNOT gate in the basis gate set."
      ],
      "metadata": {
        "id": "9I1gJf4-hjfu"
      }
    },
    {
      "cell_type": "code",
      "execution_count": null,
      "metadata": {
        "colab": {
          "base_uri": "https://localhost:8080/",
          "height": 186
        },
        "id": "Bba8An8AnIiL",
        "outputId": "5ec98fbb-a8a6-4675-a9d9-120b4f95e0a9"
      },
      "outputs": [
        {
          "data": {
            "text/html": [
              "<pre style=\"word-wrap: normal;white-space: pre;background: #fff0;line-height: 1.1;font-family: &quot;Courier New&quot;,Courier,monospace\">global phase: π/2\n",
              "          ┌────────┐ ┌────┐          ┌──────┐ ┌────────┐ ┌────┐┌─────────┐»\n",
              "q_0 -> 0 ─┤ Rz(-π) ├─┤ √X ├──────────┤1     ├─┤ Rz(-π) ├─┤ √X ├┤ Rz(π/4) ├»\n",
              "         ┌┴────────┴┐├────┤┌────────┐│  Ecr │┌┴────────┴┐├────┤├─────────┤»\n",
              "q_1 -> 1 ┤ Rz(-π/2) ├┤ √X ├┤ Rz(-π) ├┤0     ├┤ Rz(5π/6) ├┤ √X ├┤ Rz(π/2) ├»\n",
              "         └──────────┘└────┘└────────┘└──────┘└──────────┘└────┘└─────────┘»\n",
              "«         ┌────┐\n",
              "«q_0 -> 0 ┤ √X ├\n",
              "«         └────┘\n",
              "«q_1 -> 1 ──────\n",
              "«               </pre>"
            ],
            "text/plain": [
              "global phase: π/2\n",
              "          ┌────────┐ ┌────┐          ┌──────┐ ┌────────┐ ┌────┐┌─────────┐»\n",
              "q_0 -> 0 ─┤ Rz(-π) ├─┤ √X ├──────────┤1     ├─┤ Rz(-π) ├─┤ √X ├┤ Rz(π/4) ├»\n",
              "         ┌┴────────┴┐├────┤┌────────┐│  Ecr │┌┴────────┴┐├────┤├─────────┤»\n",
              "q_1 -> 1 ┤ Rz(-π/2) ├┤ √X ├┤ Rz(-π) ├┤0     ├┤ Rz(5π/6) ├┤ √X ├┤ Rz(π/2) ├»\n",
              "         └──────────┘└────┘└────────┘└──────┘└──────────┘└────┘└─────────┘»\n",
              "«         ┌────┐\n",
              "«q_0 -> 0 ┤ √X ├\n",
              "«         └────┘\n",
              "«q_1 -> 1 ──────\n",
              "«               "
            ]
          },
          "execution_count": 65,
          "metadata": {},
          "output_type": "execute_result"
        }
      ],
      "source": [
        "from qiskit_ibm_runtime import QiskitRuntimeService\n",
        "\n",
        "# If you did not previously save your credentials, use the following line instead:\n",
        "service = QiskitRuntimeService(channel=\"ibm_quantum\", token=\"2e1b3eb3e672ac4571fddd2dc631f8876fd09fb538c9179a2e054748696c04d27851088e6ec5300cbff17e357a0f9235d0cbe16db1966947e2687c5dd4cd80dc\")\n",
        "# service = QiskitRuntimeService()\n",
        "\n",
        "backend = service.least_busy(simulator=False, operational=True)\n",
        "\n",
        "# Convert to an ISA circuit and layout-mapped observables.\n",
        "pm = generate_preset_pass_manager(backend=backend, optimization_level=1)\n",
        "isa_circuit = pm.run(qc)\n",
        "\n",
        "isa_circuit.draw(idle_wires=False)"
      ]
    },
    {
      "cell_type": "markdown",
      "source": [
        "Below is the estimation of quantum_sum(1,1) without any noise and Custom transpilation, on the utility-scale QPU of IBM. This is discussed in section 3 of the write-up file."
      ],
      "metadata": {
        "id": "J159Dp6mhuQh"
      }
    },
    {
      "cell_type": "code",
      "source": [
        "from qiskit.quantum_info import SparsePauliOp\n",
        "\n",
        "observables_labels = [\"ZIII\",\"IZII\",\"IIZI\",\"IIIZ\",\"XIII\",\"IXII\",\"IIXI\",\"IIIX\",\"ZZII\",\"IZZI\",\"IIZZ\",\"ZIIZ\",\"XXII\",\"IXXI\",\"IIXX\",\"XIIX\"]\n",
        "observables = [SparsePauliOp(label) for label in observables_labels]"
      ],
      "metadata": {
        "id": "xWE9XlfliS2E"
      },
      "execution_count": 134,
      "outputs": []
    },
    {
      "cell_type": "code",
      "source": [
        "qc = quantum_sum(1,2)\n",
        "\n",
        "backend = service.least_busy(simulator=False, operational=True)\n",
        "\n",
        "# Convert to an ISA circuit and layout-mapped observables.\n",
        "pm = generate_preset_pass_manager(backend=backend, optimization_level=1)\n",
        "isa_circuit = pm.run(qc)\n",
        "\n",
        "isa_circuit.draw('mpl', idle_wires=False)"
      ],
      "metadata": {
        "id": "fW4gdmL6ijtr"
      },
      "execution_count": null,
      "outputs": []
    },
    {
      "cell_type": "code",
      "execution_count": null,
      "metadata": {
        "colab": {
          "base_uri": "https://localhost:8080/"
        },
        "id": "IVuLAPCyoWAF",
        "outputId": "a1bb44ce-ec23-4e81-8e05-151254683a72"
      },
      "outputs": [
        {
          "name": "stdout",
          "output_type": "stream",
          "text": [
            ">>> Job ID: cwfz4zk40e000088mfm0\n"
          ]
        }
      ],
      "source": [
        "# Construct the Estimator instance.\n",
        "from qiskit_ibm_runtime import EstimatorV2 as Estimator\n",
        "\n",
        "estimator = Estimator(mode=backend)\n",
        "estimator.options.resilience_level = 1\n",
        "estimator.options.default_shots = 1000\n",
        "\n",
        "mapped_observables = [observable.apply_layout(isa_circuit.layout) for observable in observables]\n",
        "\n",
        "# One pub, with one circuit to run against five different observables.\n",
        "job = estimator.run([(isa_circuit, mapped_observables)])\n",
        "\n",
        "# Use the job ID to retrieve your job data later\n",
        "print(f\">>> Job ID: {job.job_id()}\")"
      ]
    },
    {
      "cell_type": "code",
      "execution_count": null,
      "metadata": {
        "colab": {
          "base_uri": "https://localhost:8080/"
        },
        "id": "lU69r8Jj1fzv",
        "outputId": "e0237d1e-8461-42e3-bb13-2fbce0cda40d"
      },
      "outputs": [
        {
          "name": "stdout",
          "output_type": "stream",
          "text": [
            "Expectation values for pub 0: [ 1.00824742 -1.02444208 -0.49897331 -0.59521332 -0.00618557  0.03613177\n",
            " -0.10061602 -0.07284079 -1.03928171  0.50719823  0.56612022 -0.59185919\n",
            " -0.02244669 -0.00442968  0.01311475  0.04840484]\n"
          ]
        }
      ],
      "source": [
        "pub_result = job.result()[0]\n",
        "\n",
        "job_result = job.result()\n",
        "\n",
        "for idx, pub_result in enumerate(job_result):\n",
        "    print(f\"Expectation values for pub {idx}: {pub_result.data.evs}\")"
      ]
    },
    {
      "cell_type": "markdown",
      "source": [
        "THE FIRST TWO ELEMENT OF THE PUB SHOWS THE STATE |01>, WHICH IS 2 IN BINARY(RIGHT-HAND CONVENTION)"
      ],
      "metadata": {
        "id": "tKmVG7QwjoKf"
      }
    }
  ],
  "metadata": {
    "colab": {
      "provenance": []
    },
    "kernelspec": {
      "display_name": "Python 3",
      "name": "python3"
    },
    "language_info": {
      "name": "python"
    }
  },
  "nbformat": 4,
  "nbformat_minor": 0
}